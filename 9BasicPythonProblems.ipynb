{
 "cells": [
  {
   "cell_type": "markdown",
   "id": "10598536",
   "metadata": {},
   "source": [
    "  ## Print Hello World "
   ]
  },
  {
   "cell_type": "code",
   "execution_count": 4,
   "id": "d0440bbb",
   "metadata": {},
   "outputs": [
    {
     "name": "stdout",
     "output_type": "stream",
     "text": [
      "hello world\n"
     ]
    }
   ],
   "source": [
    "print(\"hello world\")"
   ]
  },
  {
   "cell_type": "markdown",
   "id": "ae6d1c21",
   "metadata": {},
   "source": [
    "## The Sum of Two Numbers:"
   ]
  },
  {
   "cell_type": "code",
   "execution_count": 9,
   "id": "46f8f9a7",
   "metadata": {},
   "outputs": [
    {
     "name": "stdout",
     "output_type": "stream",
     "text": [
      "enter the first number:3.33\n",
      "enter the second number:4.55\n",
      "Sum of two numbers is: 7.88\n"
     ]
    }
   ],
   "source": [
    "num1 = float(input(\"enter the first number:\"))\n",
    "num2 = float(input(\"enter the second number:\"))\n",
    "sum = num1 + num2\n",
    "print(\"Sum of two numbers is:\",sum)\n"
   ]
  },
  {
   "cell_type": "markdown",
   "id": "578e5ec9",
   "metadata": {},
   "source": [
    "## Difference of two numbers :"
   ]
  },
  {
   "cell_type": "code",
   "execution_count": 11,
   "id": "cfa90f76",
   "metadata": {},
   "outputs": [
    {
     "name": "stdout",
     "output_type": "stream",
     "text": [
      "enter the first number:8.59\n",
      "enter the second number:4.7\n",
      "Difference of two numbers is: 3.8899999999999997\n"
     ]
    }
   ],
   "source": [
    "num1 = float(input(\"enter the first number:\"))\n",
    "num2 = float(input(\"enter the second number:\"))\n",
    "Difference = num1 - num2\n",
    "print(\"Difference of two numbers is:\",Difference)\n"
   ]
  },
  {
   "cell_type": "markdown",
   "id": "e56b66b7",
   "metadata": {},
   "source": [
    "## Calculate the area of the Rectangle :"
   ]
  },
  {
   "cell_type": "code",
   "execution_count": 13,
   "id": "9341932a",
   "metadata": {},
   "outputs": [
    {
     "name": "stdout",
     "output_type": "stream",
     "text": [
      "enter the length of the rectangle:50\n",
      "enter the breath of the rectangle:45\n",
      " area of the rectangle is: 2250.0\n"
     ]
    }
   ],
   "source": [
    "length = float(input(\"enter the length of the rectangle:\"))\n",
    "breath = float(input(\"enter the breath of the rectangle:\"))\n",
    "area = length*breath\n",
    "print(\" area of the rectangle is:\", area)"
   ]
  },
  {
   "cell_type": "markdown",
   "id": "3b57005f",
   "metadata": {},
   "source": [
    "## Check if number is odd or even: "
   ]
  },
  {
   "cell_type": "code",
   "execution_count": 20,
   "id": "2ba2074c",
   "metadata": {},
   "outputs": [
    {
     "name": "stdout",
     "output_type": "stream",
     "text": [
      "enter the number:5\n",
      "number is odd\n"
     ]
    }
   ],
   "source": [
    "num1 = int(input(\"enter the number:\"))\n",
    "\n",
    "if num1%2==0:\n",
    "    print(\"number is even\")\n",
    "else: \n",
    "    print(\"number is odd\")"
   ]
  },
  {
   "cell_type": "markdown",
   "id": "17365b64",
   "metadata": {},
   "source": [
    "## Tell if year is leap or not ?"
   ]
  },
  {
   "cell_type": "code",
   "execution_count": 11,
   "id": "b66747c5",
   "metadata": {},
   "outputs": [
    {
     "name": "stdout",
     "output_type": "stream",
     "text": [
      "enter the year:2000\n",
      "2000 it is a leap year\n"
     ]
    }
   ],
   "source": [
    "year = int(input(\"enter the year:\"))\n",
    "if (year%4==0 and year%100!=0) or (year%400==0):\n",
    "    print(year,\"it is a leap year\") \n",
    "else:\n",
    "    print(year, \"it is not a leap year \")"
   ]
  },
  {
   "cell_type": "markdown",
   "id": "e5643c43",
   "metadata": {},
   "source": [
    "## Check if number if positive , negative or zero ?"
   ]
  },
  {
   "cell_type": "code",
   "execution_count": 1,
   "id": "1e22f16d",
   "metadata": {},
   "outputs": [
    {
     "name": "stdout",
     "output_type": "stream",
     "text": [
      "enter the number:4\n",
      "4.0 number is positive\n"
     ]
    }
   ],
   "source": [
    "num = float(input(\"enter the number:\"))\n",
    "if num>0:\n",
    "   print(num,\"number is positive\")\n",
    "elif num<0: \n",
    "   print(num, \"number is negative\")\n",
    "else:\n",
    "   print(num, \"number is zero\")\n"
   ]
  },
  {
   "cell_type": "markdown",
   "id": "f283b23f",
   "metadata": {},
   "source": [
    "## Check out of three numbers which is greater?"
   ]
  },
  {
   "cell_type": "code",
   "execution_count": 3,
   "id": "cf64c133",
   "metadata": {},
   "outputs": [
    {
     "name": "stdout",
     "output_type": "stream",
     "text": [
      "enter the number:2\n",
      "enter the number:4\n",
      "enter the number:1\n",
      "4.0 second number is greater\n"
     ]
    }
   ],
   "source": [
    "num1 = float(input(\"enter the number:\"))\n",
    "num2 = float(input(\"enter the number:\"))\n",
    "num3 = float(input(\"enter the number:\"))\n",
    "\n",
    "if num1>num2 and num1>num3:\n",
    "    print(num1,\"first number is greater\")\n",
    "elif num2>num1 and num2>num3:\n",
    "    print(num2,\"second number is greater\")\n",
    "else: \n",
    "    print(num3,\"third number is greater\")\n"
   ]
  },
  {
   "cell_type": "markdown",
   "id": "1ead5d1f",
   "metadata": {},
   "source": [
    "## Check Grade of the student:"
   ]
  },
  {
   "cell_type": "code",
   "execution_count": 12,
   "id": "00a076ad",
   "metadata": {},
   "outputs": [
    {
     "name": "stdout",
     "output_type": "stream",
     "text": [
      "enter the marks obtained:76\n",
      "C grade\n"
     ]
    }
   ],
   "source": [
    "num = float(input(\"enter the marks obtained:\"))\n",
    "if num >= 90: \n",
    "    print(\"A grade\")\n",
    "elif num>=80: \n",
    "    print(\"B grade\")\n",
    "elif num>=70:\n",
    "    print(\"C grade\")\n",
    "elif num>=60:\n",
    "    print(\"D grade\")\n",
    "elif num>=50:\n",
    "    print(\"E grade\")\n",
    "else: \n",
    "    print(\"grade F\")"
   ]
  }
 ],
 "metadata": {
  "kernelspec": {
   "display_name": "Python 3 (ipykernel)",
   "language": "python",
   "name": "python3"
  },
  "language_info": {
   "codemirror_mode": {
    "name": "ipython",
    "version": 3
   },
   "file_extension": ".py",
   "mimetype": "text/x-python",
   "name": "python",
   "nbconvert_exporter": "python",
   "pygments_lexer": "ipython3",
   "version": "3.11.7"
  }
 },
 "nbformat": 4,
 "nbformat_minor": 5
}
